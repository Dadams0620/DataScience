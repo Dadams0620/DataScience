{
 "cells": [
  {
   "cell_type": "code",
   "execution_count": 10,
   "id": "a8c6a29b-524d-4a84-9b3e-6360b0555d35",
   "metadata": {},
   "outputs": [
    {
     "name": "stdout",
     "output_type": "stream",
     "text": [
      "Damilola\n"
     ]
    }
   ],
   "source": [
    "print(\"Damilola\")"
   ]
  },
  {
   "cell_type": "code",
   "execution_count": 8,
   "id": "7be0e4fd-517f-4ee1-8984-e1ef4a4addb3",
   "metadata": {},
   "outputs": [
    {
     "data": {
      "text/plain": [
       "16"
      ]
     },
     "execution_count": 8,
     "metadata": {},
     "output_type": "execute_result"
    }
   ],
   "source": [
    "9+7"
   ]
  },
  {
   "cell_type": "code",
   "execution_count": 12,
   "id": "60acf9fe-614f-4f44-a6b7-92e80242cae7",
   "metadata": {},
   "outputs": [
    {
     "data": {
      "text/plain": [
       "2"
      ]
     },
     "execution_count": 12,
     "metadata": {},
     "output_type": "execute_result"
    }
   ],
   "source": [
    "26-24"
   ]
  },
  {
   "cell_type": "code",
   "execution_count": 14,
   "id": "f2aa776c-b2ed-4de6-b126-cc293e7feea9",
   "metadata": {},
   "outputs": [
    {
     "data": {
      "text/plain": [
       "5.0"
      ]
     },
     "execution_count": 14,
     "metadata": {},
     "output_type": "execute_result"
    }
   ],
   "source": [
    "25/5"
   ]
  },
  {
   "cell_type": "code",
   "execution_count": 16,
   "id": "68b879a7-4f4d-4c2d-be3d-311a4b22a4be",
   "metadata": {},
   "outputs": [
    {
     "data": {
      "text/plain": [
       "624"
      ]
     },
     "execution_count": 16,
     "metadata": {},
     "output_type": "execute_result"
    }
   ],
   "source": [
    "24*26"
   ]
  },
  {
   "cell_type": "code",
   "execution_count": 18,
   "id": "620cd1a8-6c5a-4d66-9030-ada62865c4b3",
   "metadata": {},
   "outputs": [
    {
     "data": {
      "text/plain": [
       "48"
      ]
     },
     "execution_count": 18,
     "metadata": {},
     "output_type": "execute_result"
    }
   ],
   "source": [
    "24+26-2"
   ]
  },
  {
   "cell_type": "code",
   "execution_count": null,
   "id": "859101e4-8220-4e9e-80ff-2da0394b353c",
   "metadata": {},
   "outputs": [],
   "source": []
  }
 ],
 "metadata": {
  "kernelspec": {
   "display_name": "Python 3 (ipykernel)",
   "language": "python",
   "name": "python3"
  },
  "language_info": {
   "codemirror_mode": {
    "name": "ipython",
    "version": 3
   },
   "file_extension": ".py",
   "mimetype": "text/x-python",
   "name": "python",
   "nbconvert_exporter": "python",
   "pygments_lexer": "ipython3",
   "version": "3.12.4"
  }
 },
 "nbformat": 4,
 "nbformat_minor": 5
}
